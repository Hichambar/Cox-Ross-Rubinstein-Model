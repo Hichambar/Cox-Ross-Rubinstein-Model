{
 "cells": [
  {
   "cell_type": "markdown",
   "id": "c174fb02",
   "metadata": {},
   "source": [
    "suppose at each period, the underlying asset would move up to 1+u or it would go down to 1+d\n",
    "so the price of the underlying is given by : \n",
    "\n",
    "\\begin{align}\n",
    "S_{n+1} = \n",
    "\\left\\{\n",
    "\\begin{array}{l}\n",
    "u*S_{n} \\\\\n",
    "d*S_{n} \n",
    "\\end{array}\n",
    "\\right.\n",
    "\\end{align}\n",
    "\n",
    "\n",
    "the probabiliy at wich the S goes up noted $\\pi$ is : \n",
    "$\\pi$ = $\\frac{(1+r)^\\Delta t - d}{u-d}$"
   ]
  },
  {
   "cell_type": "markdown",
   "id": "2238d826",
   "metadata": {},
   "source": [
    "# For 1 period"
   ]
  },
  {
   "cell_type": "code",
   "execution_count": 1,
   "id": "1c3fee9f",
   "metadata": {},
   "outputs": [],
   "source": [
    "#Markdown to explain the process"
   ]
  },
  {
   "cell_type": "code",
   "execution_count": 2,
   "id": "7a85266e",
   "metadata": {},
   "outputs": [],
   "source": [
    "class CCR_1P() : \n",
    "    def __init__(self, So, k, u, d, r, dt):\n",
    "        self.So = So\n",
    "        self.k = k\n",
    "        self.u = u\n",
    "        self.d = d\n",
    "        self.r = r\n",
    "        self.dt = dt\n",
    "        self._pi    = self.__probability()\n",
    "        self._Callupper = self.__CallUpperValue()\n",
    "        self._Calldown  = self.__CallDownValue()\n",
    "        self._PutUpper = self.__PutUpperValue()\n",
    "        self._Putdown  = self.__PutDownValue()\n",
    "    def pi(self) : \n",
    "        return self.__probability()\n",
    "    def __CallUpperValue(self) : \n",
    "        return max(0, self.u*self.So - self.k)\n",
    "    def __CallDownValue(self) : \n",
    "        return max(0, self.d*self.So - self.k)\n",
    "    def __PutUpperValue(self) : \n",
    "        return max(0, -self.u*self.So + self.k)\n",
    "    def __PutDownValue(self) : \n",
    "        return max(0, -self.d*self.So + self.k)\n",
    "    def __probability(self) : \n",
    "        return ((1 + self.r)**self.dt - self.d)/(self.u - self.d)\n",
    "    \n",
    "    def CallPrice(self) : \n",
    "        return (self._pi*self._Callupper + (1-self._pi)*self._Calldown)/((1+self.r)**self.dt)\n",
    "    def PutPrice(self) :\n",
    "        return (self._pi*self._PutUpper + (1-self._pi)*self._Putdown)/((1+self.r)**self.dt)"
   ]
  },
  {
   "cell_type": "markdown",
   "id": "b1356a94",
   "metadata": {},
   "source": [
    "## Example : "
   ]
  },
  {
   "cell_type": "code",
   "execution_count": 3,
   "id": "75e54a28",
   "metadata": {},
   "outputs": [
    {
     "name": "stdout",
     "output_type": "stream",
     "text": [
      "The price of a europen call options is : 0.5951309125140798\n",
      "The price of a europen put options is : 0.4123287424469252\n",
      "Call - Put = 0.1828021700671546\n",
      "S - k/(1+r) = 0.1828021700671485\n"
     ]
    }
   ],
   "source": [
    "So = 100\n",
    "k = 99.9\n",
    "u = 1.01\n",
    "d = 0.99\n",
    "r = 0.01\n",
    "dt = 1/12\n",
    "\n",
    "ccr_1P = CCR_1P(So, k, u, d, r, dt)\n",
    "callOption = ccr_1P.CallPrice()\n",
    "putOption = ccr_1P.PutPrice()\n",
    "print(\"The price of a europen call options is : \" + str(callOption))\n",
    "print(\"The price of a europen put options is : \" + str(putOption))\n",
    "print(\"Call - Put = \" + str(callOption - putOption))\n",
    "print(\"S - k/(1+r) = \" + str(So-k/(1+r)**(dt)))"
   ]
  },
  {
   "cell_type": "markdown",
   "id": "61fbcee1",
   "metadata": {},
   "source": [
    "# For 2 period"
   ]
  },
  {
   "cell_type": "code",
   "execution_count": 4,
   "id": "1e5434ed",
   "metadata": {},
   "outputs": [],
   "source": [
    "class CCR_2P() : \n",
    "    def __init__(self, So, k, u, d, r, dt):\n",
    "        self.So = So\n",
    "        self.k = k\n",
    "        self.u = u\n",
    "        self.d = d\n",
    "        self.r = r\n",
    "        self.dt = dt\n",
    "    def pi(self) : \n",
    "        return self.__probability()\n",
    "    def __probability(self) : \n",
    "        return ((1 + self.r)**self.dt - self.d)/(self.u - self.d)\n",
    "    def __CallUpperValue(self) : \n",
    "        return max(0, (self.u**2)*self.So - self.k)\n",
    "    def __CallDownValue(self) : \n",
    "        return max(0, (self.d**2)*self.So - self.k)\n",
    "    def __CallMiddleValue(self) : \n",
    "        return max(0, (self.d*self.u)*self.So - self.k)\n",
    "    \n",
    "    def __PutUpperValue(self) : \n",
    "        return max(0, -(self.u**2)*self.So + self.k)\n",
    "    def __PutDownValue(self) : \n",
    "        return max(0, -(self.d**2)*self.So + self.k)\n",
    "    def __PutMiddleValue(self) : \n",
    "        return max(0, -(self.d*self.u)*self.So + self.k)\n",
    "    \n",
    "    def CallPrice(self) : \n",
    "        pi = self.__probability()\n",
    "        return ((1/(1+self.r)**(2*self.dt))*(pi**2)*self.__CallUpperValue() + 2*pi*(1-pi)*self.__CallMiddleValue() + ((1-pi)**2)*self.__CallDownValue())\n",
    "    def PutPrice(self) :\n",
    "        pi = self.__probability()\n",
    "        return ((1/(1+self.r)**(2*self.dt))*(pi**2)*self.__PutUpperValue() + 2*pi*(1-pi)*self.__PutMiddleValue() + ((1-pi)**2)*self.__PutDownValue())    "
   ]
  },
  {
   "cell_type": "markdown",
   "id": "2e818b39",
   "metadata": {},
   "source": [
    "## Example : "
   ]
  },
  {
   "cell_type": "code",
   "execution_count": 5,
   "id": "35130176",
   "metadata": {},
   "outputs": [
    {
     "name": "stdout",
     "output_type": "stream",
     "text": [
      "The price of a europen call options is : 1.3726550757210638\n",
      "The price of a europen put options is : 0.20814099371067052\n",
      "Call - Put = 1.1645140820103932\n",
      "S - k/(1+r) = 1.1640443968117467\n"
     ]
    }
   ],
   "source": [
    "So = 100\n",
    "k = 99\n",
    "u = 1.01\n",
    "d = 0.99\n",
    "r = 0.01\n",
    "dt = 1/12\n",
    "\n",
    "ccr_2P = CCR_2P(So, k, u, d, r, dt)\n",
    "\n",
    "callOption = ccr_2P.CallPrice()\n",
    "putOption = ccr_2P.PutPrice()\n",
    "\n",
    "print(\"The price of a europen call options is : \" + str(callOption))\n",
    "print(\"The price of a europen put options is : \" + str(putOption))\n",
    "print(\"Call - Put = \" + str(callOption - putOption))\n",
    "print(\"S - k/(1+r) = \" + str(So-k/(1+r)**(2*dt)))"
   ]
  },
  {
   "cell_type": "markdown",
   "id": "5746b34a",
   "metadata": {},
   "source": [
    "# For several periods"
   ]
  },
  {
   "cell_type": "code",
   "execution_count": 6,
   "id": "23466023",
   "metadata": {},
   "outputs": [],
   "source": [
    "from math import *\n",
    "def C(k, n) : \n",
    "        return factorial(n)/(factorial(n-k)*factorial(k))"
   ]
  },
  {
   "cell_type": "code",
   "execution_count": 58,
   "id": "95372514",
   "metadata": {},
   "outputs": [],
   "source": [
    "class CCR_NP() : \n",
    "    def __init__(self, So, k, u, d, r, N, dt):\n",
    "        \"\"\"\n",
    "        N : is the period length\n",
    "        \"\"\"\n",
    "        self.So = So\n",
    "        self.k = k\n",
    "        self.u = u\n",
    "        self.d = d\n",
    "        self.r = r\n",
    "        self.N = N\n",
    "        self.dt = dt\n",
    "    def pi(self) :\n",
    "        return self.__probability()\n",
    "    def __probability(self) : \n",
    "        return ((1 + self.r)**self.dt - self.d)/(self.u - self.d)\n",
    "    def __CallValue(self, j) : \n",
    "        return max(0, (self.u**j)*(self.d**(N-j))*self.So - self.k)\n",
    "    \n",
    "    def __PutValue(self, j) : \n",
    "        return max(0, -(self.u**j)*(self.d**(N-j))*self.So + self.k)\n",
    "    \n",
    "    def CallPrice(self) : \n",
    "        pi = self.__probability()\n",
    "        c = 0\n",
    "        for i in range(N+1) : \n",
    "            c = c + C(i,N)*(pi**i)*((1-pi)**(N-i))*self.__CallValue(i)\n",
    "        return c/(1+self.r)**(self.N*self.dt)\n",
    "    def PutPrice(self) :\n",
    "        pi = self.__probability()\n",
    "        p = 0\n",
    "        for i in range(N+1) : \n",
    "            p = p + C(i,N)*(pi**i)*((1-pi)**(N-i))*self.__PutValue(i)\n",
    "        return p/(1+self.r)**(self.N*self.dt)"
   ]
  },
  {
   "cell_type": "markdown",
   "id": "caf2757d",
   "metadata": {},
   "source": [
    "## Example : "
   ]
  },
  {
   "cell_type": "code",
   "execution_count": 61,
   "id": "c2d3fb0a",
   "metadata": {},
   "outputs": [
    {
     "name": "stdout",
     "output_type": "stream",
     "text": [
      "The price of a europen call options is : 9.78314478793337\n",
      "The price of a europen put options is : 0.9052503420799677\n",
      "Call - Put = 8.877894445853402\n",
      "S - k/(1+r) = 8.877894445854139\n"
     ]
    }
   ],
   "source": [
    "So = 100\n",
    "k = 99\n",
    "u = 1.01\n",
    "d = 0.99\n",
    "r = 0.01\n",
    "dt = 1/12\n",
    "N = 100\n",
    "\n",
    "ccr_NP = CCR_NP(So, k, u, d, r, N, dt)\n",
    "\n",
    "callOption = ccr_NP.CallPrice()\n",
    "putOption = ccr_NP.PutPrice()\n",
    "print(\"The price of a europen call options is : \" + str(callOption))\n",
    "print(\"The price of a europen put options is : \" + str(putOption))\n",
    "print(\"Call - Put = \" + str(callOption - putOption))\n",
    "print(\"S - k/(1+r) = \" + str(So-k/(1+r)**(N*dt)))"
   ]
  }
 ],
 "metadata": {
  "kernelspec": {
   "display_name": "Python 3",
   "language": "python",
   "name": "python3"
  },
  "language_info": {
   "codemirror_mode": {
    "name": "ipython",
    "version": 3
   },
   "file_extension": ".py",
   "mimetype": "text/x-python",
   "name": "python",
   "nbconvert_exporter": "python",
   "pygments_lexer": "ipython3",
   "version": "3.8.8"
  }
 },
 "nbformat": 4,
 "nbformat_minor": 5
}
